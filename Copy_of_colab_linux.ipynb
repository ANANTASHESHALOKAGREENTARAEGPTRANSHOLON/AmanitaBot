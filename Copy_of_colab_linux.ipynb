{
  "nbformat": 4,
  "nbformat_minor": 0,
  "metadata": {
    "colab": {
      "name": "Copy of colab_linux",
      "provenance": [],
      "collapsed_sections": [
        "eOdsCFxlA1H4",
        "cgVphivCK63W",
        "gqK9V34BMJEI",
        "iMmIP-7mPZ47",
        "wDfrMEItPeMb",
        "eEfgYHhYPhE4",
        "tDqaJWqLFe8f",
        "bH9BpVyMGBBP",
        "7TKTEnozJDVg",
        "Dp8zz6NWKVNv"
      ],
      "include_colab_link": true
    },
    "kernelspec": {
      "name": "python3",
      "display_name": "Python 3"
    },
    "accelerator": "GPU"
  },
  "cells": [
    {
      "cell_type": "markdown",
      "metadata": {
        "id": "view-in-github",
        "colab_type": "text"
      },
      "source": [
        "<a href=\"https://colab.research.google.com/github/ANANTASHESHALOKAGREENTARAEGPTRANSHOLON/AmanitaBot/blob/ARXIPSIXIKA/Copy_of_colab_linux.ipynb\" target=\"_parent\"><img src=\"https://colab.research.google.com/assets/colab-badge.svg\" alt=\"Open In Colab\"/></a>"
      ]
    },
    {
      "cell_type": "markdown",
      "metadata": {
        "id": "D1ka-TL85mlI"
      },
      "source": [
        "# Команды Linux на платформе Google Colaboratory\n",
        "\n",
        "Код ноутбуков, которые мы создаем на платформе Google Colaboratory, запускается на виртуальной машине с Linux в облаке Google. Для большинства задач в Colaboratory достаточно средств Python, но иногда все-таки приходится использовать команды операционной системы. Например, для загрузки данных или установки пакетов Python. Если вы привыкли работать с Wndows, то использование команд Linux на первом этапе может вызвать затруднение.\n",
        "\n",
        "В этом ноутбуке показаны примеры использования команд операционной системы Linux для выполнения часто встречающихся задач анализа данных на платформе Google Colaboratory\n",
        "\n",
        "Чтобы запускать и редактировать код, сохраните копию этого ноутбука себе (File->Save a copy in Drive...). Свою копию вы сможете изменять и запускать.\n",
        "\n",
        "Учебный курс \"[Программирование глубоких нейронных сетей на Python](https://www.asozykin.ru/courses/nnpython)\".\n",
        "\n"
      ]
    },
    {
      "cell_type": "markdown",
      "metadata": {
        "id": "M6-1TXWP7loQ"
      },
      "source": [
        "## Основы использования командной строки в Colab\n",
        "\n",
        "Комады Linux в ноутбуках Colaboratory должны начинаться с восклицательного знака (!). Именно по наличию восклицательного знака в начале строки определяется, что это не код Python, а команда операционной системы. \n",
        "\n",
        "Пример:"
      ]
    },
    {
      "cell_type": "code",
      "metadata": {
        "id": "Nez3UEB15i-o",
        "colab": {
          "base_uri": "https://localhost:8080/",
          "height": 34
        },
        "outputId": "d5cf4018-d6e9-4dda-cb3b-c20303b5f6e2"
      },
      "source": [
        "!ls"
      ],
      "execution_count": null,
      "outputs": [
        {
          "output_type": "stream",
          "text": [
            "sample_data\n"
          ],
          "name": "stdout"
        }
      ]
    },
    {
      "cell_type": "markdown",
      "metadata": {
        "id": "E2sXl-KT8LOI"
      },
      "source": [
        "`ls` - команда для получения списка файлов в каталоге. Мы можем видеть, что в текущем каталоге есть всего один файл - `sample_data`. \n",
        "\n",
        "Но это на самом деле не файл, а каталог. Давайте посмотрим, что находится в нем."
      ]
    },
    {
      "cell_type": "code",
      "metadata": {
        "id": "_DyONHzu8l4Q",
        "colab": {
          "base_uri": "https://localhost:8080/",
          "height": 70
        },
        "outputId": "9d93285f-cc8f-4886-bc59-e4bad23d099e"
      },
      "source": [
        "!ls sample_data"
      ],
      "execution_count": null,
      "outputs": [
        {
          "output_type": "stream",
          "text": [
            "anscombe.json\t\t      mnist_test.csv\n",
            "california_housing_test.csv   mnist_train_small.csv\n",
            "california_housing_train.csv  README.md\n"
          ],
          "name": "stdout"
        }
      ]
    },
    {
      "cell_type": "markdown",
      "metadata": {
        "id": "0DLvMjmU8kzJ"
      },
      "source": [
        "Если команде `ls` в качестве параметра указать имя каталога, то будет выведен список файлов в этом каталоге.\n",
        "\n",
        "Каталог `sample_data`, как можно понять из названия, содержит демонстрационные данные. Этот каталог и данные в нем создаются автоматически при запуске виртуальной машины."
      ]
    },
    {
      "cell_type": "markdown",
      "metadata": {
        "id": "_wi1dBIO9LIp"
      },
      "source": [
        "## Просмотр файлов\n",
        "\n",
        "Как узнать, что находится в файлах с демонстрационными данными? Можно написать код на Python, но быстрее использовать команды Linux. Команда `head` выводит первые строки указанного ей файла. "
      ]
    },
    {
      "cell_type": "code",
      "metadata": {
        "id": "YPMqHJqN-GWJ",
        "colab": {
          "base_uri": "https://localhost:8080/",
          "height": 213
        },
        "outputId": "04dabebf-b355-4eb3-8279-7037ee47eb3d"
      },
      "source": [
        "!head sample_data/california_housing_train.csv"
      ],
      "execution_count": null,
      "outputs": [
        {
          "output_type": "stream",
          "text": [
            "\"longitude\",\"latitude\",\"housing_median_age\",\"total_rooms\",\"total_bedrooms\",\"population\",\"households\",\"median_income\",\"median_house_value\"\n",
            "-114.310000,34.190000,15.000000,5612.000000,1283.000000,1015.000000,472.000000,1.493600,66900.000000\n",
            "-114.470000,34.400000,19.000000,7650.000000,1901.000000,1129.000000,463.000000,1.820000,80100.000000\n",
            "-114.560000,33.690000,17.000000,720.000000,174.000000,333.000000,117.000000,1.650900,85700.000000\n",
            "-114.570000,33.640000,14.000000,1501.000000,337.000000,515.000000,226.000000,3.191700,73400.000000\n",
            "-114.570000,33.570000,20.000000,1454.000000,326.000000,624.000000,262.000000,1.925000,65500.000000\n",
            "-114.580000,33.630000,29.000000,1387.000000,236.000000,671.000000,239.000000,3.343800,74000.000000\n",
            "-114.580000,33.610000,25.000000,2907.000000,680.000000,1841.000000,633.000000,2.676800,82400.000000\n",
            "-114.590000,34.830000,41.000000,812.000000,168.000000,375.000000,158.000000,1.708300,48500.000000\n",
            "-114.590000,33.610000,34.000000,4789.000000,1175.000000,3134.000000,1056.000000,2.178200,58400.000000\n"
          ],
          "name": "stdout"
        }
      ]
    },
    {
      "cell_type": "markdown",
      "metadata": {
        "id": "iZ1nEZF0-dTo"
      },
      "source": [
        "В первой строке файла файла `california_housing_train.csv` заголовок, а в остальных данные, разделенные запятыми.\n",
        "\n",
        "По-умолчанию команда head выводит 10 строк из файла. Можно показать любое количество срок, использую параметр `-n`. Давайте выведем 15 строк:"
      ]
    },
    {
      "cell_type": "code",
      "metadata": {
        "id": "xSM-fLur-7aA",
        "colab": {
          "base_uri": "https://localhost:8080/",
          "height": 301
        },
        "outputId": "18162270-48d3-4b6f-a70b-14ba5ec932a2"
      },
      "source": [
        "!head -n 15 sample_data/california_housing_train.csv"
      ],
      "execution_count": null,
      "outputs": [
        {
          "output_type": "stream",
          "text": [
            "\"longitude\",\"latitude\",\"housing_median_age\",\"total_rooms\",\"total_bedrooms\",\"population\",\"households\",\"median_income\",\"median_house_value\"\n",
            "-114.310000,34.190000,15.000000,5612.000000,1283.000000,1015.000000,472.000000,1.493600,66900.000000\n",
            "-114.470000,34.400000,19.000000,7650.000000,1901.000000,1129.000000,463.000000,1.820000,80100.000000\n",
            "-114.560000,33.690000,17.000000,720.000000,174.000000,333.000000,117.000000,1.650900,85700.000000\n",
            "-114.570000,33.640000,14.000000,1501.000000,337.000000,515.000000,226.000000,3.191700,73400.000000\n",
            "-114.570000,33.570000,20.000000,1454.000000,326.000000,624.000000,262.000000,1.925000,65500.000000\n",
            "-114.580000,33.630000,29.000000,1387.000000,236.000000,671.000000,239.000000,3.343800,74000.000000\n",
            "-114.580000,33.610000,25.000000,2907.000000,680.000000,1841.000000,633.000000,2.676800,82400.000000\n",
            "-114.590000,34.830000,41.000000,812.000000,168.000000,375.000000,158.000000,1.708300,48500.000000\n",
            "-114.590000,33.610000,34.000000,4789.000000,1175.000000,3134.000000,1056.000000,2.178200,58400.000000\n",
            "-114.600000,34.830000,46.000000,1497.000000,309.000000,787.000000,271.000000,2.190800,48100.000000\n",
            "-114.600000,33.620000,16.000000,3741.000000,801.000000,2434.000000,824.000000,2.679700,86500.000000\n",
            "-114.600000,33.600000,21.000000,1988.000000,483.000000,1182.000000,437.000000,1.625000,62000.000000\n",
            "-114.610000,34.840000,48.000000,1291.000000,248.000000,580.000000,211.000000,2.157100,48600.000000\n",
            "-114.610000,34.830000,31.000000,2478.000000,464.000000,1346.000000,479.000000,3.212000,70400.000000\n"
          ],
          "name": "stdout"
        }
      ]
    },
    {
      "cell_type": "markdown",
      "metadata": {
        "id": "WYDnl0hv_1Sz"
      },
      "source": [
        "Если хотим просмотреть весь файл, то можно использовать команду `cat`:"
      ]
    },
    {
      "cell_type": "code",
      "metadata": {
        "id": "dqQEuynO_SEQ",
        "colab": {
          "base_uri": "https://localhost:8080/",
          "height": 336
        },
        "outputId": "b746d6de-a460-43c1-f21c-e94f29c683f9"
      },
      "source": [
        "!cat sample_data/README.md"
      ],
      "execution_count": null,
      "outputs": [
        {
          "output_type": "stream",
          "text": [
            "This directory includes a few sample datasets to get you started.\n",
            "\n",
            "* `california_housing_data*.csv` is California housing data from the 1990 US\n",
            "  Census; more information is available at:\n",
            "  https://developers.google.com/machine-learning/crash-course/california-housing-data-description\n",
            "\n",
            "* `mnist_*.csv` is a small sample of the [MNIST\n",
            "  database](https://en.wikipedia.org/wiki/MNIST_database), which is described\n",
            "  at: http://yann.lecun.com/exdb/mnist/\n",
            "\n",
            "* `anscombe.json` contains a copy of [Anscombe's\n",
            " quartet](https://en.wikipedia.org/wiki/Anscombe%27s_quartet);\n",
            "  it was originally described in\n",
            "\n",
            "      Anscombe, F. J. (1973). 'Graphs in Statistical Analysis'. American Statistician. 27 (1): 17-21. JSTOR 2682899.\n",
            "\n",
            "  and our copy was prepared by the [vega_datasets library](https://github.com/altair-viz/vega_datasets/blob/4f67bdaad10f45e3549984e17e1b3088c731503d/vega_datasets/_data/anscombe.json).\n"
          ],
          "name": "stdout"
        }
      ]
    },
    {
      "cell_type": "markdown",
      "metadata": {
        "id": "2PXkgrk29m_v"
      },
      "source": [
        "Выводить весь файл стоит только если файл небольшой и мы сможем его посмотреть. Но как узнать, большой файл, или нет? Команда `wc -l` показывает количество срок в файле."
      ]
    },
    {
      "cell_type": "code",
      "metadata": {
        "id": "h9RxRMS6AQgJ",
        "colab": {
          "base_uri": "https://localhost:8080/",
          "height": 52
        },
        "outputId": "799ad5cd-5d68-436f-8bb2-fd31f451525c"
      },
      "source": [
        "!wc -l sample_data/README.md\n",
        "!wc -l sample_data/california_housing_train.csv"
      ],
      "execution_count": null,
      "outputs": [
        {
          "output_type": "stream",
          "text": [
            "17 sample_data/README.md\n",
            "17001 sample_data/california_housing_train.csv\n"
          ],
          "name": "stdout"
        }
      ]
    },
    {
      "cell_type": "markdown",
      "metadata": {
        "id": "gvR54bSFAZaE"
      },
      "source": [
        "В файле `README.md` 17 строк, а в `california_housing_train.csv` - 17001. Выводить целиком файл `california_housing_train.csv` явно не стоит, он слишком большой.\n",
        "\n",
        "Надеюсь вы обратили внимание, что в одной ячейке можно указывать не одну команду Linux, а несколько."
      ]
    },
    {
      "cell_type": "markdown",
      "metadata": {
        "id": "eOdsCFxlA1H4"
      },
      "source": [
        "## Каталоги и пути к файлам"
      ]
    },
    {
      "cell_type": "markdown",
      "metadata": {
        "id": "87d-dFR4BD25"
      },
      "source": [
        "В Linux для разделения имен файлов, каталогов и подкаталогов используется прямой слеш - `/` (в Windows для этой цели используется обратный слеш `\\`). Python часто возволяет писать пути к файлам с любым типом слеша и автоматически конвертирует в понятный текущей операционной системе вариант. Но Linux так делать не умеет. Если вы попробуете использовать обратный слеш, как в Windows, то будет ошибка:"
      ]
    },
    {
      "cell_type": "code",
      "metadata": {
        "id": "_NZHlUnsBwYJ",
        "colab": {
          "base_uri": "https://localhost:8080/",
          "height": 34
        },
        "outputId": "39b7c272-1ecf-4027-c2e4-db55af5cad44"
      },
      "source": [
        "!head sample_data\\california_housing_train.csv"
      ],
      "execution_count": null,
      "outputs": [
        {
          "output_type": "stream",
          "text": [
            "head: cannot open 'sample_datacalifornia_housing_train.csv' for reading: No such file or directory\n"
          ],
          "name": "stdout"
        }
      ]
    },
    {
      "cell_type": "code",
      "metadata": {
        "id": "cPgre6t4By33",
        "colab": {
          "base_uri": "https://localhost:8080/",
          "height": 213
        },
        "outputId": "69c307a6-d4e2-48b6-efae-39e6520a26a8"
      },
      "source": [
        "!head sample_data/california_housing_train.csv"
      ],
      "execution_count": null,
      "outputs": [
        {
          "output_type": "stream",
          "text": [
            "\"longitude\",\"latitude\",\"housing_median_age\",\"total_rooms\",\"total_bedrooms\",\"population\",\"households\",\"median_income\",\"median_house_value\"\n",
            "-114.310000,34.190000,15.000000,5612.000000,1283.000000,1015.000000,472.000000,1.493600,66900.000000\n",
            "-114.470000,34.400000,19.000000,7650.000000,1901.000000,1129.000000,463.000000,1.820000,80100.000000\n",
            "-114.560000,33.690000,17.000000,720.000000,174.000000,333.000000,117.000000,1.650900,85700.000000\n",
            "-114.570000,33.640000,14.000000,1501.000000,337.000000,515.000000,226.000000,3.191700,73400.000000\n",
            "-114.570000,33.570000,20.000000,1454.000000,326.000000,624.000000,262.000000,1.925000,65500.000000\n",
            "-114.580000,33.630000,29.000000,1387.000000,236.000000,671.000000,239.000000,3.343800,74000.000000\n",
            "-114.580000,33.610000,25.000000,2907.000000,680.000000,1841.000000,633.000000,2.676800,82400.000000\n",
            "-114.590000,34.830000,41.000000,812.000000,168.000000,375.000000,158.000000,1.708300,48500.000000\n",
            "-114.590000,33.610000,34.000000,4789.000000,1175.000000,3134.000000,1056.000000,2.178200,58400.000000\n"
          ],
          "name": "stdout"
        }
      ]
    },
    {
      "cell_type": "markdown",
      "metadata": {
        "id": "KXFxV2pUB2mn"
      },
      "source": [
        "До сих пор мы просматривали файлы в текущем каталоге. Но как узнать, где именно в файловой системе находится этот каталог? Для этой цели используется команда `pwd`:"
      ]
    },
    {
      "cell_type": "code",
      "metadata": {
        "id": "k5lyUrBWCD_o",
        "colab": {
          "base_uri": "https://localhost:8080/",
          "height": 34
        },
        "outputId": "d1b55c77-18c8-4204-f554-46105703401d"
      },
      "source": [
        "!pwd"
      ],
      "execution_count": null,
      "outputs": [
        {
          "output_type": "stream",
          "text": [
            "/content\n"
          ],
          "name": "stdout"
        }
      ]
    },
    {
      "cell_type": "markdown",
      "metadata": {
        "id": "FEnZ_7-HCHwz"
      },
      "source": [
        "Путь к текущему каталогу - `/content`. В Linux нет разных дисков, все пути в файловой системе начинаются от так называемого корневого каталога, который обозначается прямым слешем - `/`.  Давайте посмотрим, какие есть каталоги верхнего уровня:"
      ]
    },
    {
      "cell_type": "code",
      "metadata": {
        "id": "anm80LGTCGoA",
        "colab": {
          "base_uri": "https://localhost:8080/",
          "height": 52
        },
        "outputId": "959e1d44-d938-4fd1-93b7-cc16363ac0a5"
      },
      "source": [
        "!ls /"
      ],
      "execution_count": null,
      "outputs": [
        {
          "output_type": "stream",
          "text": [
            "bin   content  dev  home  lib32  media\topt   root  sbin  swift  tmp\tusr\n",
            "boot  datalab  etc  lib   lib64  mnt\tproc  run   srv   sys\t tools\tvar\n"
          ],
          "name": "stdout"
        }
      ]
    },
    {
      "cell_type": "markdown",
      "metadata": {
        "id": "BJbw2wQ_C3Q6"
      },
      "source": [
        "Наиболее важные каталоги верхнего уровня:\n",
        "- `bin`, `sbin` - исполняемые файлы\n",
        "- `content` - каталог для данных, его мы уже рассматривали выше\n",
        "- `home` - каталог для файлов пользователей (\"домашний\" каталог)\n",
        "- `root` - домашний каталог для пользователя `root` (аналог Администратора в Linux)\n",
        "- `lib`, `lib32`, `lib64` - библиотеки\n",
        "- `tmp` - каталог для временных файлов\n",
        "- `etc` - каталог с конфигурационными файлами\n",
        "\n",
        "Потратьте некоторое время чтобы посмотреть содержимое этих каталогов.\n",
        "\n",
        "В большей части этих каталогов мы не будем ничего менять. Нам нужно будет загружать файлы данных в каталог `content` и выполнять некоторые настройки в домашнем каталоге пользователя `root`."
      ]
    },
    {
      "cell_type": "markdown",
      "metadata": {
        "id": "cgVphivCK63W"
      },
      "source": [
        "## Копирование файлов и создание каталогов\n",
        "\n",
        "Предположим, что мы решили создать проект, который использует демонстрационные данные Сalifornia Housing. Чтобы случайно не испортить исходные файлы, мы создадим отдельный каталог и скопируем файлы туда.\n",
        "\n",
        "Создание каталога выполняется командой `mkdir`:"
      ]
    },
    {
      "cell_type": "code",
      "metadata": {
        "id": "2J7X3Qy6LfLY"
      },
      "source": [
        "!mkdir my_project"
      ],
      "execution_count": null,
      "outputs": []
    },
    {
      "cell_type": "markdown",
      "metadata": {
        "id": "Ixg7ea8xLjOf"
      },
      "source": [
        "Проверим, что каталог создался:"
      ]
    },
    {
      "cell_type": "code",
      "metadata": {
        "id": "C2Yjvlm6LmQf",
        "colab": {
          "base_uri": "https://localhost:8080/",
          "height": 34
        },
        "outputId": "9edb0fef-e2fa-414f-b855-dc6e40d3ee87"
      },
      "source": [
        "!ls"
      ],
      "execution_count": null,
      "outputs": [
        {
          "output_type": "stream",
          "text": [
            "my_project  sample_data\n"
          ],
          "name": "stdout"
        }
      ]
    },
    {
      "cell_type": "markdown",
      "metadata": {
        "id": "eKB5nElWLoVw"
      },
      "source": [
        "Теперь скопируем в новый каталог демонстрационные данные. Для этого используется команда `cp`:"
      ]
    },
    {
      "cell_type": "code",
      "metadata": {
        "id": "2SeI8YtILzRQ"
      },
      "source": [
        "!cp sample_data/california_housing_test.csv my_project  \n",
        "!cp sample_data/california_housing_train.csv my_project  "
      ],
      "execution_count": null,
      "outputs": []
    },
    {
      "cell_type": "markdown",
      "metadata": {
        "id": "qkjI7svgL8w_"
      },
      "source": [
        "Проверим, что файлы скопировались:"
      ]
    },
    {
      "cell_type": "code",
      "metadata": {
        "id": "8qD-055ZMBMf",
        "colab": {
          "base_uri": "https://localhost:8080/",
          "height": 34
        },
        "outputId": "e8a10f03-8e69-4223-f482-1f66ddd18172"
      },
      "source": [
        "!ls my_project/"
      ],
      "execution_count": null,
      "outputs": [
        {
          "output_type": "stream",
          "text": [
            "california_housing_test.csv  california_housing_train.csv\n"
          ],
          "name": "stdout"
        }
      ]
    },
    {
      "cell_type": "markdown",
      "metadata": {
        "id": "gqK9V34BMJEI"
      },
      "source": [
        "## Загрузка данных из интернет\n",
        "\n",
        "Чаще всего нужные нам данные выложены в интернет и мы загружаем их на локальный компьютер через браузер. В Linux для загрузки файлов из интернет используется команда `wget`. Для примера давайте загрузим [данные о работе такси в Нью-Йорке](http://www.nyc.gov/html/tlc/html/about/trip_record_data.shtml)."
      ]
    },
    {
      "cell_type": "code",
      "metadata": {
        "id": "31FNpSMpO7JH",
        "colab": {
          "base_uri": "https://localhost:8080/",
          "height": 210
        },
        "outputId": "9fc0b6ad-42fc-4656-a8b6-3b8b5b56159b"
      },
      "source": [
        "!wget https://s3.amazonaws.com/nyc-tlc/trip+data/yellow_tripdata_2018-06.csv"
      ],
      "execution_count": null,
      "outputs": [
        {
          "output_type": "stream",
          "text": [
            "--2019-02-06 03:09:51--  https://s3.amazonaws.com/nyc-tlc/trip+data/yellow_tripdata_2018-06.csv\n",
            "Resolving s3.amazonaws.com (s3.amazonaws.com)... 52.216.85.213\n",
            "Connecting to s3.amazonaws.com (s3.amazonaws.com)|52.216.85.213|:443... connected.\n",
            "HTTP request sent, awaiting response... 200 OK\n",
            "Length: 769389923 (734M) [text/csv]\n",
            "Saving to: ‘yellow_tripdata_2018-06.csv’\n",
            "\n",
            "yellow_tripdata_201 100%[===================>] 733.75M  36.7MB/s    in 21s     \n",
            "\n",
            "2019-02-06 03:10:12 (35.5 MB/s) - ‘yellow_tripdata_2018-06.csv’ saved [769389923/769389923]\n",
            "\n"
          ],
          "name": "stdout"
        }
      ]
    },
    {
      "cell_type": "markdown",
      "metadata": {
        "id": "0sOoU52JPHGH"
      },
      "source": [
        "Проверим, что загруженный файл появился в текущем каталоге"
      ]
    },
    {
      "cell_type": "code",
      "metadata": {
        "id": "kYMW6GJDPOBY",
        "colab": {
          "base_uri": "https://localhost:8080/",
          "height": 34
        },
        "outputId": "040aef5b-484d-4d96-c8a0-64bf44684b1c"
      },
      "source": [
        "!ls"
      ],
      "execution_count": null,
      "outputs": [
        {
          "output_type": "stream",
          "text": [
            "my_project  sample_data  yellow_tripdata_2018-06.csv\n"
          ],
          "name": "stdout"
        }
      ]
    },
    {
      "cell_type": "markdown",
      "metadata": {
        "id": "grw7_A-WPQuo"
      },
      "source": [
        "Просмотрим начало файла"
      ]
    },
    {
      "cell_type": "code",
      "metadata": {
        "id": "kygLfB31PS3j",
        "colab": {
          "base_uri": "https://localhost:8080/",
          "height": 213
        },
        "outputId": "04239540-eea9-47b0-a6f7-baab347506fd"
      },
      "source": [
        "!head yellow_tripdata_2018-06.csv"
      ],
      "execution_count": null,
      "outputs": [
        {
          "output_type": "stream",
          "text": [
            "VendorID,tpep_pickup_datetime,tpep_dropoff_datetime,passenger_count,trip_distance,RatecodeID,store_and_fwd_flag,PULocationID,DOLocationID,payment_type,fare_amount,extra,mta_tax,tip_amount,tolls_amount,improvement_surcharge,total_amount\n",
            "\r\n",
            "1,2018-06-01 00:15:40,2018-06-01 00:16:46,1,.00,1,N,145,145,2,3,0.5,0.5,0,0,0.3,4.3\r\n",
            "1,2018-06-01 00:04:18,2018-06-01 00:09:18,1,1.00,1,N,230,161,1,5.5,0.5,0.5,1.35,0,0.3,8.15\r\n",
            "1,2018-06-01 00:14:39,2018-06-01 00:29:46,1,3.30,1,N,100,263,2,13,0.5,0.5,0,0,0.3,14.3\r\n",
            "1,2018-06-01 00:51:25,2018-06-01 00:51:29,3,.00,1,N,145,145,2,2.5,0.5,0.5,0,0,0.3,3.8\r\n",
            "1,2018-06-01 00:55:06,2018-06-01 00:55:10,1,.00,1,N,145,145,2,2.5,0.5,0.5,0,0,0.3,3.8\r\n",
            "1,2018-06-01 00:09:00,2018-06-01 00:24:01,1,2.00,1,N,161,234,1,11.5,0.5,0.5,2.55,0,0.3,15.35\r\n",
            "1,2018-06-01 00:02:33,2018-06-01 00:13:01,2,1.50,1,N,163,233,1,8.5,0.5,0.5,1.95,0,0.3,11.75\r\n",
            "1,2018-06-01 00:13:23,2018-06-01 00:16:52,1,.70,1,N,186,246,1,5,0.5,0.5,1.85,0,0.3,8.15\r\n"
          ],
          "name": "stdout"
        }
      ]
    },
    {
      "cell_type": "markdown",
      "metadata": {
        "id": "iMmIP-7mPZ47"
      },
      "source": [
        "## Архивы\n",
        "\n",
        "Часто данные запакованы в архивы, чтобы занимать меньше места. Давайте посмотрим, как можно под Linux распаковывать архивы.\n",
        "\n",
        "Начнем с простого - загрузим и распакуем данные в архиве `Zip`.  В качестве примера будем использовать небольшую часть набора данных  [Labeled Faces in the Wild](http://vis-www.cs.umass.edu/lfw/#download) - фотографии людей, чьи имена начинаются на A."
      ]
    },
    {
      "cell_type": "code",
      "metadata": {
        "id": "uws0IXIZPdSh",
        "colab": {
          "base_uri": "https://localhost:8080/",
          "height": 210
        },
        "outputId": "3b22454f-d2bc-4ba6-a4a4-4a786994bafa"
      },
      "source": [
        "!wget http://vis-www.cs.umass.edu/lfw/lfw-a.zip"
      ],
      "execution_count": null,
      "outputs": [
        {
          "output_type": "stream",
          "text": [
            "--2019-02-06 03:12:30--  http://vis-www.cs.umass.edu/lfw/lfw-a.zip\n",
            "Resolving vis-www.cs.umass.edu (vis-www.cs.umass.edu)... 128.119.244.95\n",
            "Connecting to vis-www.cs.umass.edu (vis-www.cs.umass.edu)|128.119.244.95|:80... connected.\n",
            "HTTP request sent, awaiting response... 200 OK\n",
            "Length: 15167852 (14M) [application/zip]\n",
            "Saving to: ‘lfw-a.zip’\n",
            "\n",
            "lfw-a.zip           100%[===================>]  14.46M  6.07MB/s    in 2.4s    \n",
            "\n",
            "2019-02-06 03:12:33 (6.07 MB/s) - ‘lfw-a.zip’ saved [15167852/15167852]\n",
            "\n"
          ],
          "name": "stdout"
        }
      ]
    },
    {
      "cell_type": "markdown",
      "metadata": {
        "id": "0HfIn8Pv9jU9"
      },
      "source": [
        "Распаковываем архив с помощью команды `unzip`:"
      ]
    },
    {
      "cell_type": "code",
      "metadata": {
        "id": "bsHs1zS09izf"
      },
      "source": [
        "!unzip lfw-a.zip"
      ],
      "execution_count": null,
      "outputs": []
    },
    {
      "cell_type": "markdown",
      "metadata": {
        "id": "cqg4139W9s5V"
      },
      "source": [
        "Проверяем результаты распаковки"
      ]
    },
    {
      "cell_type": "code",
      "metadata": {
        "id": "bGCNdMgB9wIO",
        "colab": {
          "base_uri": "https://localhost:8080/",
          "height": 3818
        },
        "outputId": "8da096b8-ea74-4c1c-dd67-b6fb5e74c441"
      },
      "source": [
        "!ls lfw"
      ],
      "execution_count": null,
      "outputs": [
        {
          "output_type": "stream",
          "text": [
            "Aaron_Eckhart\t\t      Amanda_Coetzer\n",
            "Aaron_Guiel\t\t      Amanda_Marsh\n",
            "Aaron_Patterson\t\t      Amanda_Plumer\n",
            "Aaron_Peirsol\t\t      Amber_Frey\n",
            "Aaron_Pena\t\t      Amber_Tamblyn\n",
            "Aaron_Sorkin\t\t      Ambrose_Lee\n",
            "Aaron_Tippin\t\t      Amelia_Vega\n",
            "Abba_Eban\t\t      Amelie_Mauresmo\n",
            "Abbas_Kiarostami\t      Amer_al-Saadi\n",
            "Abdel_Aziz_Al-Hakim\t      Amporn_Falise\n",
            "Abdel_Madi_Shabneh\t      Amram_Mitzna\n",
            "Abdel_Nasser_Assidi\t      Amr_Moussa\n",
            "Abdoulaye_Wade\t\t      Amy_Brenneman\n",
            "Abdulaziz_Kamilov\t      Amy_Cotton\n",
            "Abdullah\t\t      Amy_Gale\n",
            "Abdullah_Ahmad_Badawi\t      Amy_Pascal\n",
            "Abdullah_al-Attiyah\t      Amy_Redford\n",
            "Abdullah_Gul\t\t      Amy_Smart\n",
            "Abdullah_Nasseef\t      Amy_Yasbeck\n",
            "Abdullatif_Sener\t      Ana_Claudia_Talancon\n",
            "Abdul_Majeed_Shobokshi\t      Ana_Guevara\n",
            "Abdul_Rahman\t\t      Ana_Isabel_Sanchez\n",
            "Abel_Aguilar\t\t      Ana_Palacio\n",
            "Abel_Pacheco\t\t      Ana_Paula_Gerard\n",
            "Abid_Hamid_Mahmud_Al-Tikriti  Ana_Sebastiao\n",
            "Abner_Martinez\t\t      Anastasia_Kelesidou\n",
            "Abraham_Foxman\t\t      Anastasia_Myskina\n",
            "Aby_Har-Even\t\t      Anatoliy_Kinakh\n",
            "Adam_Ant\t\t      Anders_Ebbeson\n",
            "Adam_Freier\t\t      Anders_Fogh_Rasmussen\n",
            "Adam_Herbert\t\t      Anderson_Varejao\n",
            "Adam_Kennedy\t\t      Andrea_Bocelli\n",
            "Adam_Mair\t\t      Andrea_De_Cruz\n",
            "Adam_Rich\t\t      Andre_Agassi\n",
            "Adam_Sandler\t\t      Andrea_Kiser\n",
            "Adam_Scott\t\t      Andreas_Vinciguerra\n",
            "Adel_Al-Jubeir\t\t      Andrea_Yates\n",
            "Adelina_Avila\t\t      Andre_Bucher\n",
            "Adisai_Bodharamik\t      Andrei_Konchalovsky\n",
            "Adolfo_Aguilar_Zinser\t      Andrei_Mikhnevich\n",
            "Adolfo_Rodriguez_Saa\t      Andrei_Nikolishin\n",
            "Adoor_Gopalakarishnan\t      Andre_Lange\n",
            "Adriana_Lima\t\t      Andres_DAlessandro\n",
            "Adrian_Annus\t\t      Andres_Manuel_Lopez_Obrador\n",
            "Adriana_Perez_Navarro\t      Andre_Smith\n",
            "Adrian_Fernandez\t      Andres_Pastrana\n",
            "Adrian_McPherson\t      Andre_Techine\n",
            "Adrian_Murrell\t\t      Andrew_Bernard\n",
            "Adrian_Nastase\t\t      Andrew_Bunner\n",
            "Adrianna_Zuzic\t\t      Andrew_Caldecott\n",
            "Adrien_Brody\t\t      Andrew_Cuomo\n",
            "Afton_Smith\t\t      Andrew_Fastow\n",
            "Agbani_Darego\t\t      Andrew_Firestone\n",
            "Agnelo_Queiroz\t\t      Andrew_Gilligan\n",
            "Agnes_Bruckner\t\t      Andrew_Jarecki\n",
            "Ahmad_Jbarah\t\t      Andrew_Luster\n",
            "Ahmad_Masood\t\t      Andrew_Niccol\n",
            "Ahmed_Ahmed\t\t      Andrew_Sabey\n",
            "Ahmed_Chalabi\t\t      Andrew_Shutley\n",
            "Ahmed_Ghazi\t\t      Andrew_Weissmann\n",
            "Ahmed_Ibrahim_Bilal\t      Andrew_Wetzler\n",
            "Ahmed_Lopez\t\t      Andrzej_Tyszkiewicz\n",
            "Ahmed_Qureia\t\t      Andy_Benes\n",
            "Ahmet_Demir\t\t      Andy_Bryant\n",
            "Ahmet_Necdet_Sezer\t      Andy_Dick\n",
            "Aicha_El_Ouafi\t\t      Andy_Garcia\n",
            "Aidan_Quinn\t\t      Andy_Graves\n",
            "Aileen_Riggin_Soule\t      Andy_Griffith\n",
            "Ain_Seppik\t\t      Andy_Griggs\n",
            "Ainsworth_Dyer\t\t      Andy_Hebb\n",
            "Aishwarya_Rai\t\t      Andy_Lau\n",
            "Ai_Sugiyama\t\t      Andy_Madikians\n",
            "Aitor_Gonzalez\t\t      Andy_North\n",
            "Aiysha_Smith\t\t      Andy_Perez\n",
            "AJ_Cook\t\t\t      Andy_Roddick\n",
            "Ajit_Agarkar\t\t      Andy_Rooney\n",
            "AJ_Lamas\t\t      Andy_Warhol\n",
            "Akbar_Al_Baker\t\t      Andy_Wisecarver\n",
            "Akbar_Hashemi_Rafsanjani      Anette_Hosoi\n",
            "Akhmed_Zakayev\t\t      AnFernce_Negron\n",
            "Akiko_Morigami\t\t      Angela_Alvarado_Rosa\n",
            "Akmal_Taher\t\t      Angela_Bassett\n",
            "Alain_Cervantes\t\t      Angela_Lansbury\n",
            "Alain_Ducasse\t\t      Angela_Mascia-Frye\n",
            "Alan_Ball\t\t      Angela_Merkel\n",
            "Alan_Dershowitz\t\t      Angelica_Romero\n",
            "Alan_Dreher\t\t      Angelina_Jolie\n",
            "Alan_Greenspan\t\t      Angel_Lockward\n",
            "Alan_Greer\t\t      Angel_Maza\n",
            "Alanis_Morissette\t      Angelo_Genova\n",
            "Alan_Jackson\t\t      Angelo_Reyes\n",
            "Alan_Mulally\t\t      Angie_Arzola\n",
            "Alanna_Ubach\t\t      Angie_Martinez\n",
            "Alan_Stonecipher\t      Anibal_Ibarra\n",
            "Alan_Tang_Kwong-wing\t      Anil_Ramsook\n",
            "Alan_Trammell\t\t      Anita_DeFrantz\n",
            "Alan_Zemaitis\t\t      Anja_Paerson\n",
            "Alastair_Campbell\t      Anjum_Hussain\n",
            "Alastair_Johnston\t      Anna_Chicherova\n",
            "Albaro_Recoba\t\t      Anna_Faris\n",
            "Alberta_Lee\t\t      Anna_Jones\n",
            "Albert_Brooks\t\t      Anna_Kournikova\n",
            "Albert_Costa\t\t      Anna_Nicole_Smith\n",
            "Albert_Montanes\t\t      Anne_Cavers\n",
            "Alberto_Acosta\t\t      Anne_Donovan\n",
            "Alberto_Fujimori\t      Anne_Heche\n",
            "Alberto_Gonzales\t      Anne_Krueger\n",
            "Alberto_Ruiz_Gallardon\t      Anneli_Jaatteenmaki\n",
            "Alberto_Sordi\t\t      Anne_McLellan\n",
            "Albert_Pujols\t\t      Anne_ONeil\n",
            "Albrecht_Mentz\t\t      Annette_Bening\n",
            "Al_Cardenas\t\t      Annette_Lu\n",
            "Al_Davis\t\t      Ann_Godbehere\n",
            "Aldo_Paredes\t\t      Annie_Chaplin\n",
            "Alec_Baldwin\t\t      Annie-Jeanne_Reynaud\n",
            "Alecos_Markides\t\t      Annie_Machon\n",
            "Alejandro_Atchugarry\t      Annika_Sorenstam\n",
            "Alejandro_Avila\t\t      Ann_Landers\n",
            "Alejandro_Fernandez\t      Ann_Morgan\n",
            "Alejandro_Gonzalez_Inarritu   Ann_Veneman\n",
            "Alejandro_Lembo\t\t      Antanas_Valionis\n",
            "Alejandro_Lerner\t      Anthony_Carter\n",
            "Alejandro_Lopez\t\t      Anthony_Corso\n",
            "Alejandro_Toledo\t      Anthony_Ervin\n",
            "Aleksander_Kwasniewski\t      Anthony_Fauci\n",
            "Aleksander_Voloshin\t      Anthony_Garotinho\n",
            "Alek_Wek\t\t      Anthony_Hazen\n",
            "Alessandra_Cerna\t      Anthony_Hopkins\n",
            "Alessandro_Nesta\t      Anthony_LaPaglia\n",
            "Alexa_Loren\t\t      Anthony_Lee_Johnson\n",
            "Alexander_Downer\t      Anthony_Mazur\n",
            "Alexander_Losyukov\t      Anthony_Pico\n",
            "Alexander_Lukashenko\t      Anthony_Pisciotti\n",
            "Alexander_Payne\t\t      Anthony_Principi\n",
            "Alexander_Rumyantsev\t      Anthony_Rackauckas\n",
            "Alexandra_Jackson\t      Anthony_Scott_Miller\n",
            "Alexandra_Pelosi\t      Antje_Buschschulte\n",
            "Alexandra_Rozovskaya\t      Anton_Balasingham\n",
            "Alexandra_Spann\t\t      Antonio_Banderas\n",
            "Alexandra_Stevenson\t      Antonio_Bernardo\n",
            "Alexandra_Vodjanikova\t      Antonio_Cassano\n",
            "Alexandre_Daigle\t      Antonio_Catania\n",
            "Alexandre_Despatie\t      Antonio_Elias_Saca\n",
            "Alexandre_Herchcovitch\t      Antonio_Palocci\n",
            "Alexandre_Vinokourov\t      Antonio_Trillanes\n",
            "Alexa_Vega\t\t      Antony_Leung\n",
            "Alex_Barros\t\t      Antwun_Echols\n",
            "Alex_Cabrera\t\t      Anwar_Ibrahim\n",
            "Alex_Cejka\t\t      Anzori_Kikalishvili\n",
            "Alex_Corretja\t\t      Aparna_Pillai\n",
            "Alex_Ferguson\t\t      Aram_Adler\n",
            "Alex_Gonzalez\t\t      Arantxa_Sanchez-Vicario\n",
            "Alex_Holmes\t\t      Aretha_Franklin\n",
            "Alexis_Bledel\t\t      Arianna_Huffington\n",
            "Alexis_Dennisoff\t      Ari_Bousbib\n",
            "Alex_King\t\t      Arie_Haan\n",
            "Alex_Penelas\t\t      Ariel_Sharon\n",
            "Alex_Popov\t\t      Ari_Fleischer\n",
            "Alex_Sink\t\t      Arif_Mardin\n",
            "Alex_Wallau\t\t      Arlen_Specter\n",
            "Alex_Zanardi\t\t      Armando_Avila_Panchame\n",
            "Alfonso_Cuaron\t\t      Armando_Calderon_Sol\n",
            "Alfonso_Portillo\t      Armando_Carrillo\n",
            "Alfonso_Soriano\t\t      Armand_Sargen\n",
            "Alfred_Ford\t\t      Arminio_Fraga\n",
            "Alfredo_di_Stefano\t      Arnaud_Clement\n",
            "Alfredo_Moreno\t\t      Arnaud_Lagardere\n",
            "Alfredo_Pena\t\t      Arnie_Boehm\n",
            "Alfred_Sant\t\t      Arnoldo_Aleman\n",
            "Al_Gore\t\t\t      Arnold_Palmer\n",
            "Ali_Abbas\t\t      Arnold_Schwarzenegger\n",
            "Ali_Abdullah_Saleh\t      Arnold_Scott\n",
            "Ali_Adbul_Karim_Madani\t      Aron_Ralston\n",
            "Ali_Ahmeti\t\t      Arsinee_Khanjian\n",
            "Ali_Bin_Hussein\t\t      Art_Cooper\n",
            "Alice_Fisher\t\t      Art_Hoffmann\n",
            "Alicia_Hollowell\t      Art_Howe\n",
            "Alicia_Keys\t\t      Arthur_Johnson\n",
            "Alicia_Molik\t\t      Arthur_Martinez\n",
            "Alicia_Silverstone\t      Artieas_Shanks\n",
            "Alicia_Witt\t\t      Art_Lopez\n",
            "Ali_Fallahian\t\t      Arturo_Gatti\n",
            "Ali_Hammoud\t\t      Arye_Mekel\n",
            "Ali_Khamenei\t\t      Asa_Hutchinson\n",
            "Ali_Mohammed_Maher\t      Ascencion_Barajas\n",
            "Alimzhan_Tokhtakhounov\t      Ashanti\n",
            "Ali_Naimi\t\t      Ashlea_Talbot\n",
            "Alina_Kabaeva\t\t      Ashley_Judd\n",
            "Aline_Chretien\t\t      Ashley_Olsen\n",
            "Alisha_Richman\t\t      Ashley_Postell\n",
            "Alison_Krauss\t\t      Ashraf_Alasmar\n",
            "Alison_Lohman\t\t      Ashraf_Ghani\n",
            "Alistair_MacDonald\t      Ashton_Kutcher\n",
            "Allan_Houston\t\t      Asif_Ali_Zardari\n",
            "Allan_Kemakeza\t\t      Asif_Hanif\n",
            "Allan_Wagner\t\t      Askar_Akayev\n",
            "Al_Leiter\t\t      Asmaa_Assad\n",
            "Allen_Iverson\t\t      Assad_Ahmadi\n",
            "Allen_Rock\t\t      Astou_Ndiaye-Diatta\n",
            "Allison_Janney\t\t      Astrid_Betancourt\n",
            "Allison_Searing\t\t      Astrid_Eyzaguirre\n",
            "Ally_Sheedy\t\t      Atal_Bihari_Vajpayee\n",
            "Allyson_Felix\t\t      Ataollah_Mohajerani\n",
            "Alma_Powell\t\t      Atiabet_Ijan_Amabel\n",
            "Almeida_Baptista\t      Atom_Egoyan\n",
            "Alonzo_Mourning\t\t      Atsushi_Sato\n",
            "Al_Pacino\t\t      Audrey_Lacroix\n",
            "Al_Sharpton\t\t      Audrey_Sauret\n",
            "Alvaro_Noboa\t\t      Augustin_Calleri\n",
            "Alvaro_Silva_Calderon\t      Augusto_Pinochet\n",
            "Alvaro_Uribe\t\t      Augusto_Roa_Bastos\n",
            "Alyse_Beaupre\t\t      Aung_San_Suu_Kyi\n",
            "Alyson_Hannigan\t\t      Austin_Kearns\n",
            "Aly_Wagner\t\t      Avril_Lavigne\n",
            "Amanda_Beard\t\t      Azmi_Bishara\n",
            "Amanda_Bynes\t\t      Azra_Akin\n"
          ],
          "name": "stdout"
        }
      ]
    },
    {
      "cell_type": "code",
      "metadata": {
        "id": "0_cNVswt-AlG",
        "colab": {
          "base_uri": "https://localhost:8080/",
          "height": 140
        },
        "outputId": "6310e627-c2eb-43b7-b04a-f01f9cac3c69"
      },
      "source": [
        "!ls lfw/Angelina_Jolie"
      ],
      "execution_count": null,
      "outputs": [
        {
          "output_type": "stream",
          "text": [
            "Angelina_Jolie_0001.jpg  Angelina_Jolie_0008.jpg  Angelina_Jolie_0015.jpg\n",
            "Angelina_Jolie_0002.jpg  Angelina_Jolie_0009.jpg  Angelina_Jolie_0016.jpg\n",
            "Angelina_Jolie_0003.jpg  Angelina_Jolie_0010.jpg  Angelina_Jolie_0017.jpg\n",
            "Angelina_Jolie_0004.jpg  Angelina_Jolie_0011.jpg  Angelina_Jolie_0018.jpg\n",
            "Angelina_Jolie_0005.jpg  Angelina_Jolie_0012.jpg  Angelina_Jolie_0019.jpg\n",
            "Angelina_Jolie_0006.jpg  Angelina_Jolie_0013.jpg  Angelina_Jolie_0020.jpg\n",
            "Angelina_Jolie_0007.jpg  Angelina_Jolie_0014.jpg\n"
          ],
          "name": "stdout"
        }
      ]
    },
    {
      "cell_type": "code",
      "metadata": {
        "id": "K55AtfbM-P_P",
        "colab": {
          "base_uri": "https://localhost:8080/",
          "height": 267
        },
        "outputId": "70e6999f-79b9-46a1-a03d-42d54f4c9d02"
      },
      "source": [
        "from IPython.display import Image\n",
        "Image('lfw/Angelina_Jolie/Angelina_Jolie_0004.jpg')"
      ],
      "execution_count": null,
      "outputs": [
        {
          "output_type": "execute_result",
          "data": {
            "image/jpeg": "[encoded data removed]",
            "text/plain": [
              "<IPython.core.display.Image object>"
            ]
          },
          "metadata": {
            "tags": []
          },
          "execution_count": 23
        }
      ]
    },
    {
      "cell_type": "markdown",
      "metadata": {
        "id": "XomRuoJXod3P"
      },
      "source": [
        "Более сложный вариант - архив в формате `tar`, сжатый архиватором `gzip`. Такие файлы имеют расширение `.tar.gz` (или `.tgz`). В Linux такой формат архивов более популярен, чем `zip`. Именно в таком виде распространяются предварительно обученные модели TensorFlow. \n",
        "\n",
        "Давайте загрузим модель TensorFlow для обнаружения объектов на изображениях и распакуем её. Загружаем модель с помощью `wget`:"
      ]
    },
    {
      "cell_type": "code",
      "metadata": {
        "id": "dhgem12xonyo",
        "colab": {
          "base_uri": "https://localhost:8080/",
          "height": 226
        },
        "outputId": "fcf5bd16-262b-4557-bb8e-152a076da274"
      },
      "source": [
        "!wget http://download.tensorflow.org/models/object_detection/faster_rcnn_inception_resnet_v2_atrous_coco_2018_01_28.tar.gz"
      ],
      "execution_count": null,
      "outputs": [
        {
          "output_type": "stream",
          "text": [
            "--2020-01-05 16:28:07--  http://download.tensorflow.org/models/object_detection/faster_rcnn_inception_resnet_v2_atrous_coco_2018_01_28.tar.gz\n",
            "Resolving download.tensorflow.org (download.tensorflow.org)... 108.177.127.128, 2a00:1450:4013:c07::80\n",
            "Connecting to download.tensorflow.org (download.tensorflow.org)|108.177.127.128|:80... connected.\n",
            "HTTP request sent, awaiting response... 200 OK\n",
            "Length: 672221478 (641M) [application/x-tar]\n",
            "Saving to: ‘faster_rcnn_inception_resnet_v2_atrous_coco_2018_01_28.tar.gz’\n",
            "\n",
            "faster_rcnn_incepti 100%[===================>] 641.08M   171MB/s    in 3.8s    \n",
            "\n",
            "2020-01-05 16:28:16 (171 MB/s) - ‘faster_rcnn_inception_resnet_v2_atrous_coco_2018_01_28.tar.gz’ saved [672221478/672221478]\n",
            "\n"
          ],
          "name": "stdout"
        }
      ]
    },
    {
      "cell_type": "markdown",
      "metadata": {
        "id": "fZQg_GS1pJOG"
      },
      "source": [
        "Распаковываем архив:"
      ]
    },
    {
      "cell_type": "code",
      "metadata": {
        "id": "1-YpiECdpOQd",
        "colab": {
          "base_uri": "https://localhost:8080/",
          "height": 188
        },
        "outputId": "4648474b-2919-4f70-a3e5-50d528b35d09"
      },
      "source": [
        "!tar xvfz faster_rcnn_inception_resnet_v2_atrous_coco_2018_01_28.tar.gz"
      ],
      "execution_count": null,
      "outputs": [
        {
          "output_type": "stream",
          "text": [
            "faster_rcnn_inception_resnet_v2_atrous_coco_2018_01_28/\n",
            "faster_rcnn_inception_resnet_v2_atrous_coco_2018_01_28/model.ckpt.index\n",
            "faster_rcnn_inception_resnet_v2_atrous_coco_2018_01_28/checkpoint\n",
            "faster_rcnn_inception_resnet_v2_atrous_coco_2018_01_28/pipeline.config\n",
            "faster_rcnn_inception_resnet_v2_atrous_coco_2018_01_28/model.ckpt.data-00000-of-00001\n",
            "faster_rcnn_inception_resnet_v2_atrous_coco_2018_01_28/model.ckpt.meta\n",
            "faster_rcnn_inception_resnet_v2_atrous_coco_2018_01_28/saved_model/\n",
            "faster_rcnn_inception_resnet_v2_atrous_coco_2018_01_28/saved_model/saved_model.pb\n",
            "faster_rcnn_inception_resnet_v2_atrous_coco_2018_01_28/saved_model/variables/\n",
            "faster_rcnn_inception_resnet_v2_atrous_coco_2018_01_28/frozen_inference_graph.pb\n"
          ],
          "name": "stdout"
        }
      ]
    },
    {
      "cell_type": "markdown",
      "metadata": {
        "id": "C35brdOcpR8b"
      },
      "source": [
        "Проверяем распакованное содержимое архива:"
      ]
    },
    {
      "cell_type": "code",
      "metadata": {
        "id": "SwWiXljGpYKM",
        "colab": {
          "base_uri": "https://localhost:8080/",
          "height": 70
        },
        "outputId": "6d597973-87da-48f0-e6d9-29e8e1d01a7b"
      },
      "source": [
        "!ls faster_rcnn_inception_resnet_v2_atrous_coco_2018_01_28"
      ],
      "execution_count": null,
      "outputs": [
        {
          "output_type": "stream",
          "text": [
            "checkpoint\t\t\tmodel.ckpt.index  saved_model\n",
            "frozen_inference_graph.pb\tmodel.ckpt.meta\n",
            "model.ckpt.data-00000-of-00001\tpipeline.config\n"
          ],
          "name": "stdout"
        }
      ]
    },
    {
      "cell_type": "markdown",
      "metadata": {
        "id": "wDfrMEItPeMb"
      },
      "source": [
        "## Установка пакетов\n",
        "\n",
        "На colaboratory уже установлено много полезных пакетов Python для машинного обучения и других задач. Но если вам понадобился какой-то новый пакет, то его можно достаточно просто установить с помощью команды `pip`. Например, установим библиотеку [`mxnet`](https://mxnet.apache.org):"
      ]
    },
    {
      "cell_type": "code",
      "metadata": {
        "id": "oqX866LOAyJe",
        "colab": {
          "base_uri": "https://localhost:8080/",
          "height": 547
        },
        "outputId": "c81a04a7-7eb4-45fb-d5f9-989dc0ee0a8a"
      },
      "source": [
        "!pip install mxnet"
      ],
      "execution_count": null,
      "outputs": [
        {
          "output_type": "stream",
          "text": [
            "Collecting mxnet\n",
            "\u001b[?25l  Downloading https://files.pythonhosted.org/packages/f0/2e/b26eb7273aed1945f59993b3b306442eb41684f931b5380821c39cf50a31/mxnet-1.3.1-py2.py3-none-manylinux1_x86_64.whl (27.1MB)\n",
            "\u001b[K    100% |████████████████████████████████| 27.1MB 1.7MB/s \n",
            "\u001b[?25hCollecting graphviz<0.9.0,>=0.8.1 (from mxnet)\n",
            "  Downloading https://files.pythonhosted.org/packages/53/39/4ab213673844e0c004bed8a0781a0721a3f6bb23eb8854ee75c236428892/graphviz-0.8.4-py2.py3-none-any.whl\n",
            "Requirement already satisfied: numpy<1.15.0,>=1.8.2 in /usr/local/lib/python3.6/dist-packages (from mxnet) (1.14.6)\n",
            "Collecting requests>=2.20.0 (from mxnet)\n",
            "\u001b[?25l  Downloading https://files.pythonhosted.org/packages/7d/e3/20f3d364d6c8e5d2353c72a67778eb189176f08e873c9900e10c0287b84b/requests-2.21.0-py2.py3-none-any.whl (57kB)\n",
            "\u001b[K    100% |████████████████████████████████| 61kB 23.7MB/s \n",
            "\u001b[?25hRequirement already satisfied: urllib3<1.25,>=1.21.1 in /usr/local/lib/python3.6/dist-packages (from requests>=2.20.0->mxnet) (1.22)\n",
            "Requirement already satisfied: certifi>=2017.4.17 in /usr/local/lib/python3.6/dist-packages (from requests>=2.20.0->mxnet) (2018.11.29)\n",
            "Requirement already satisfied: idna<2.9,>=2.5 in /usr/local/lib/python3.6/dist-packages (from requests>=2.20.0->mxnet) (2.6)\n",
            "Requirement already satisfied: chardet<3.1.0,>=3.0.2 in /usr/local/lib/python3.6/dist-packages (from requests>=2.20.0->mxnet) (3.0.4)\n",
            "\u001b[31mspacy 2.0.18 has requirement numpy>=1.15.0, but you'll have numpy 1.14.6 which is incompatible.\u001b[0m\n",
            "\u001b[31mgoogle-colab 0.0.1a1 has requirement requests~=2.18.0, but you'll have requests 2.21.0 which is incompatible.\u001b[0m\n",
            "\u001b[31mcufflinks 0.14.6 has requirement plotly>=3.0.0, but you'll have plotly 1.12.12 which is incompatible.\u001b[0m\n",
            "Installing collected packages: graphviz, requests, mxnet\n",
            "  Found existing installation: graphviz 0.10.1\n",
            "    Uninstalling graphviz-0.10.1:\n",
            "      Successfully uninstalled graphviz-0.10.1\n",
            "  Found existing installation: requests 2.18.4\n",
            "    Uninstalling requests-2.18.4:\n",
            "      Successfully uninstalled requests-2.18.4\n",
            "Successfully installed graphviz-0.8.4 mxnet-1.3.1 requests-2.21.0\n"
          ],
          "name": "stdout"
        },
        {
          "output_type": "display_data",
          "data": {
            "application/vnd.colab-display-data+json": {
              "pip_warning": {
                "packages": [
                  "requests"
                ]
              }
            }
          },
          "metadata": {
            "tags": []
          }
        }
      ]
    },
    {
      "cell_type": "markdown",
      "metadata": {
        "id": "s6V-i3ciBTAb"
      },
      "source": [
        "Также иногда может понадобиться установка пакетов операционной системы. Например, библиотеку для работы с архивами в разных форматах [libarchive](https://www.libarchive.org/). Системные пакеты устанавливаются командой `apt-get`:"
      ]
    },
    {
      "cell_type": "code",
      "metadata": {
        "id": "DH1fZP5EB6Jt",
        "colab": {
          "base_uri": "https://localhost:8080/",
          "height": 298
        },
        "outputId": "61fbe8e9-4bf4-42c4-f9c7-2437ade717e7"
      },
      "source": [
        "!apt-get install libarchive-dev -y"
      ],
      "execution_count": null,
      "outputs": [
        {
          "output_type": "stream",
          "text": [
            "Reading package lists... Done\n",
            "Building dependency tree       \n",
            "Reading state information... Done\n",
            "The following NEW packages will be installed:\n",
            "  libarchive-dev\n",
            "0 upgraded, 1 newly installed, 0 to remove and 3 not upgraded.\n",
            "Need to get 470 kB of archives.\n",
            "After this operation, 1,621 kB of additional disk space will be used.\n",
            "Get:1 http://archive.ubuntu.com/ubuntu bionic-updates/main amd64 libarchive-dev amd64 3.2.2-3.1ubuntu0.2 [470 kB]\n",
            "Fetched 470 kB in 1s (681 kB/s)\n",
            "Selecting previously unselected package libarchive-dev:amd64.\n",
            "(Reading database ... 111313 files and directories currently installed.)\n",
            "Preparing to unpack .../libarchive-dev_3.2.2-3.1ubuntu0.2_amd64.deb ...\n",
            "Unpacking libarchive-dev:amd64 (3.2.2-3.1ubuntu0.2) ...\n",
            "Processing triggers for man-db (2.8.3-2ubuntu0.1) ...\n",
            "Setting up libarchive-dev:amd64 (3.2.2-3.1ubuntu0.2) ...\n"
          ],
          "name": "stdout"
        }
      ]
    },
    {
      "cell_type": "markdown",
      "metadata": {
        "id": "eEfgYHhYPhE4"
      },
      "source": [
        "## Работа с Git\n",
        "\n",
        "В Colaboratory можно использовать обычные команды `Git`. Например, склонируем репозиторий с моделями `TensorFlow`:"
      ]
    },
    {
      "cell_type": "code",
      "metadata": {
        "id": "ifLo9rc1EZ5O",
        "colab": {
          "base_uri": "https://localhost:8080/",
          "height": 120
        },
        "outputId": "47085dba-927c-425e-8ae6-febeefc3e84d"
      },
      "source": [
        "!git clone https://github.com/tensorflow/models.git"
      ],
      "execution_count": null,
      "outputs": [
        {
          "output_type": "stream",
          "text": [
            "Cloning into 'models'...\n",
            "remote: Enumerating objects: 33544, done.\u001b[K\n",
            "remote: Total 33544 (delta 0), reused 0 (delta 0), pack-reused 33544\u001b[K\n",
            "Receiving objects: 100% (33544/33544), 511.89 MiB | 35.75 MiB/s, done.\n",
            "Resolving deltas: 100% (21458/21458), done.\n",
            "Checking out files: 100% (3194/3194), done.\n"
          ],
          "name": "stdout"
        }
      ]
    },
    {
      "cell_type": "markdown",
      "metadata": {
        "id": "CmzSo_PzEheP"
      },
      "source": [
        "Проверяем"
      ]
    },
    {
      "cell_type": "code",
      "metadata": {
        "id": "d9l9PpBhEg7Y",
        "colab": {
          "base_uri": "https://localhost:8080/",
          "height": 52
        },
        "outputId": "ec238791-bef1-46c4-a6a2-12b551b38f20"
      },
      "source": [
        "!ls models"
      ],
      "execution_count": null,
      "outputs": [
        {
          "output_type": "stream",
          "text": [
            "AUTHORS     CONTRIBUTING.md    LICENSE\t README.md  samples    WORKSPACE\n",
            "CODEOWNERS  ISSUE_TEMPLATE.md  official  research   tutorials\n"
          ],
          "name": "stdout"
        }
      ]
    },
    {
      "cell_type": "code",
      "metadata": {
        "id": "s1Lc_CotEmvP",
        "colab": {
          "base_uri": "https://localhost:8080/",
          "height": 371
        },
        "outputId": "c4b5960e-3b52-4296-80f4-d233c79413f4"
      },
      "source": [
        "!cat models/README.md"
      ],
      "execution_count": null,
      "outputs": [
        {
          "output_type": "stream",
          "text": [
            "# TensorFlow Models\n",
            "\n",
            "This repository contains a number of different models implemented in [TensorFlow](https://www.tensorflow.org):\n",
            "\n",
            "The [official models](official) are a collection of example models that use TensorFlow's high-level APIs. They are intended to be well-maintained, tested, and kept up to date with the latest stable TensorFlow API. They should also be reasonably optimized for fast performance while still being easy to read. We especially recommend newer TensorFlow users to start here.\n",
            "\n",
            "The [research models](https://github.com/tensorflow/models/tree/master/research) are a large collection of models implemented in TensorFlow by researchers. They are not officially supported or available in release branches; it is up to the individual researchers to maintain the models and/or provide support on issues and pull requests.\n",
            "\n",
            "The [samples folder](samples) contains code snippets and smaller models that demonstrate features of TensorFlow, including code presented in various blog posts.\n",
            "\n",
            "The [tutorials folder](tutorials) is a collection of models described in the [TensorFlow tutorials](https://www.tensorflow.org/tutorials/).\n",
            "\n",
            "## Contribution guidelines\n",
            "\n",
            "If you want to contribute to models, be sure to review the [contribution guidelines](CONTRIBUTING.md).\n",
            "\n",
            "## License\n",
            "\n",
            "[Apache License 2.0](LICENSE)\n"
          ],
          "name": "stdout"
        }
      ]
    },
    {
      "cell_type": "markdown",
      "metadata": {
        "id": "tDqaJWqLFe8f"
      },
      "source": [
        "## Какой Linux используется в Colaboratory?\n",
        "\n"
      ]
    },
    {
      "cell_type": "code",
      "metadata": {
        "id": "I3Zn2-wuFqpf",
        "colab": {
          "base_uri": "https://localhost:8080/",
          "height": 103
        },
        "outputId": "008d278b-bfae-40ce-9e18-e1680c8a8c03"
      },
      "source": [
        "!lsb_release -a "
      ],
      "execution_count": null,
      "outputs": [
        {
          "output_type": "stream",
          "text": [
            "No LSB modules are available.\n",
            "Distributor ID:\tUbuntu\n",
            "Description:\tUbuntu 18.04.3 LTS\n",
            "Release:\t18.04\n",
            "Codename:\tbionic\n"
          ],
          "name": "stdout"
        }
      ]
    },
    {
      "cell_type": "markdown",
      "metadata": {
        "id": "bH9BpVyMGBBP"
      },
      "source": [
        "## Сколько процесоров и памяти?"
      ]
    },
    {
      "cell_type": "markdown",
      "metadata": {
        "id": "wXGaeyGsGFEW"
      },
      "source": [
        "**Процессоры**"
      ]
    },
    {
      "cell_type": "code",
      "metadata": {
        "id": "5Php2B50GGR4",
        "colab": {
          "base_uri": "https://localhost:8080/",
          "height": 963
        },
        "outputId": "c63cfee1-4f65-41a8-bad1-deda24a57c96"
      },
      "source": [
        "!cat /proc/cpuinfo"
      ],
      "execution_count": null,
      "outputs": [
        {
          "output_type": "stream",
          "text": [
            "processor\t: 0\n",
            "vendor_id\t: GenuineIntel\n",
            "cpu family\t: 6\n",
            "model\t\t: 85\n",
            "model name\t: Intel(R) Xeon(R) CPU @ 2.00GHz\n",
            "stepping\t: 3\n",
            "microcode\t: 0x1\n",
            "cpu MHz\t\t: 2000.172\n",
            "cache size\t: 39424 KB\n",
            "physical id\t: 0\n",
            "siblings\t: 2\n",
            "core id\t\t: 0\n",
            "cpu cores\t: 1\n",
            "apicid\t\t: 0\n",
            "initial apicid\t: 0\n",
            "fpu\t\t: yes\n",
            "fpu_exception\t: yes\n",
            "cpuid level\t: 13\n",
            "wp\t\t: yes\n",
            "flags\t\t: fpu vme de pse tsc msr pae mce cx8 apic sep mtrr pge mca cmov pat pse36 clflush mmx fxsr sse sse2 ss ht syscall nx pdpe1gb rdtscp lm constant_tsc rep_good nopl xtopology nonstop_tsc cpuid tsc_known_freq pni pclmulqdq ssse3 fma cx16 pcid sse4_1 sse4_2 x2apic movbe popcnt aes xsave avx f16c rdrand hypervisor lahf_lm abm 3dnowprefetch invpcid_single ssbd ibrs ibpb stibp fsgsbase tsc_adjust bmi1 hle avx2 smep bmi2 erms invpcid rtm mpx avx512f avx512dq rdseed adx smap clflushopt clwb avx512cd avx512bw avx512vl xsaveopt xsavec xgetbv1 xsaves arat md_clear arch_capabilities\n",
            "bugs\t\t: cpu_meltdown spectre_v1 spectre_v2 spec_store_bypass l1tf mds swapgs\n",
            "bogomips\t: 4000.34\n",
            "clflush size\t: 64\n",
            "cache_alignment\t: 64\n",
            "address sizes\t: 46 bits physical, 48 bits virtual\n",
            "power management:\n",
            "\n",
            "processor\t: 1\n",
            "vendor_id\t: GenuineIntel\n",
            "cpu family\t: 6\n",
            "model\t\t: 85\n",
            "model name\t: Intel(R) Xeon(R) CPU @ 2.00GHz\n",
            "stepping\t: 3\n",
            "microcode\t: 0x1\n",
            "cpu MHz\t\t: 2000.172\n",
            "cache size\t: 39424 KB\n",
            "physical id\t: 0\n",
            "siblings\t: 2\n",
            "core id\t\t: 0\n",
            "cpu cores\t: 1\n",
            "apicid\t\t: 1\n",
            "initial apicid\t: 1\n",
            "fpu\t\t: yes\n",
            "fpu_exception\t: yes\n",
            "cpuid level\t: 13\n",
            "wp\t\t: yes\n",
            "flags\t\t: fpu vme de pse tsc msr pae mce cx8 apic sep mtrr pge mca cmov pat pse36 clflush mmx fxsr sse sse2 ss ht syscall nx pdpe1gb rdtscp lm constant_tsc rep_good nopl xtopology nonstop_tsc cpuid tsc_known_freq pni pclmulqdq ssse3 fma cx16 pcid sse4_1 sse4_2 x2apic movbe popcnt aes xsave avx f16c rdrand hypervisor lahf_lm abm 3dnowprefetch invpcid_single ssbd ibrs ibpb stibp fsgsbase tsc_adjust bmi1 hle avx2 smep bmi2 erms invpcid rtm mpx avx512f avx512dq rdseed adx smap clflushopt clwb avx512cd avx512bw avx512vl xsaveopt xsavec xgetbv1 xsaves arat md_clear arch_capabilities\n",
            "bugs\t\t: cpu_meltdown spectre_v1 spectre_v2 spec_store_bypass l1tf mds swapgs\n",
            "bogomips\t: 4000.34\n",
            "clflush size\t: 64\n",
            "cache_alignment\t: 64\n",
            "address sizes\t: 46 bits physical, 48 bits virtual\n",
            "power management:\n",
            "\n"
          ],
          "name": "stdout"
        }
      ]
    },
    {
      "cell_type": "markdown",
      "metadata": {
        "id": "SGwyT4f3Gazo"
      },
      "source": [
        "Количество процессоров 2, но это означает не два процессора, а два ядра. Производитель процессоров Intel, тактовая частота 2,3 ГГц.\n",
        "\n",
        "Если есть желание, можете подробнее разобрать информацию из `cpuinfo`, можно найти много интересного. Рекомендую начать с раздела `bugs`.\n",
        "\n"
      ]
    },
    {
      "cell_type": "markdown",
      "metadata": {
        "id": "0oHSKGKfH97J"
      },
      "source": [
        "**Память**"
      ]
    },
    {
      "cell_type": "code",
      "metadata": {
        "id": "DcMhnmESGAdW",
        "colab": {
          "base_uri": "https://localhost:8080/",
          "height": 68
        },
        "outputId": "5f6cc168-046b-40bf-b0c3-17911cf0603c"
      },
      "source": [
        "!free -h"
      ],
      "execution_count": null,
      "outputs": [
        {
          "output_type": "stream",
          "text": [
            "              total        used        free      shared  buff/cache   available\n",
            "Mem:            12G        564M        5.4G        896K        6.8G         11G\n",
            "Swap:            0B          0B          0B\n"
          ],
          "name": "stdout"
        }
      ]
    },
    {
      "cell_type": "markdown",
      "metadata": {
        "id": "-WnjDhiII77X"
      },
      "source": [
        "Всего памяти 12 ГБ, из них свободно 10ГБ."
      ]
    },
    {
      "cell_type": "markdown",
      "metadata": {
        "id": "7TKTEnozJDVg"
      },
      "source": [
        "## Какой GPU используется?\n",
        "\n",
        "Если вы подключили GPU в разделе Runtime -> Change Runtime Type -> Hardware accelerator, то модель можно посмотреть следующей командой: "
      ]
    },
    {
      "cell_type": "code",
      "metadata": {
        "id": "Ate2ig8_Jsgn",
        "colab": {
          "base_uri": "https://localhost:8080/",
          "height": 188
        },
        "outputId": "f5317cca-b23d-46a3-f53f-5ab0c068621a"
      },
      "source": [
        "!cat /proc/driver/nvidia/gpus/0000:00:04.0/information"
      ],
      "execution_count": null,
      "outputs": [
        {
          "output_type": "stream",
          "text": [
            "Model: \t\t Tesla P100-PCIE-16GB\n",
            "IRQ:   \t\t 35\n",
            "GPU UUID: \t GPU-62307fea-9c30-d83b-1eba-4053f25bb152\n",
            "Video BIOS: \t 86.00.4d.00.01\n",
            "Bus Type: \t PCI\n",
            "DMA Size: \t 47 bits\n",
            "DMA Mask: \t 0x7fffffffffff\n",
            "Bus Location: \t 0000:00:04.0\n",
            "Device Minor: \t 0\n",
            "Blacklisted:\t No\n"
          ],
          "name": "stdout"
        }
      ]
    },
    {
      "cell_type": "code",
      "metadata": {
        "id": "dEKYPvLQGopv",
        "colab": {
          "base_uri": "https://localhost:8080/",
          "height": 34
        },
        "outputId": "4790521c-5c25-4654-8146-3cdf7f90d321"
      },
      "source": [
        "!ls /proc/driver/nvidia/gpus/"
      ],
      "execution_count": null,
      "outputs": [
        {
          "output_type": "stream",
          "text": [
            "0000:00:04.0\n"
          ],
          "name": "stdout"
        }
      ]
    },
    {
      "cell_type": "markdown",
      "metadata": {
        "id": "Dp8zz6NWKVNv"
      },
      "source": [
        "## Под каким пользователем Linux выполняются команды в Colaboratory?"
      ]
    },
    {
      "cell_type": "code",
      "metadata": {
        "id": "3UVsKlqTCwD5",
        "colab": {
          "base_uri": "https://localhost:8080/",
          "height": 34
        },
        "outputId": "800747b7-90e3-4e67-b714-a5c7d8bf3d3b"
      },
      "source": [
        "!whoami"
      ],
      "execution_count": null,
      "outputs": [
        {
          "output_type": "stream",
          "text": [
            "root\n"
          ],
          "name": "stdout"
        }
      ]
    },
    {
      "cell_type": "markdown",
      "metadata": {
        "id": "wXY40PdVKpHB"
      },
      "source": [
        "Имя пользователя - `root`, суперпользователь. Домашний каталог пользователя - `/root`"
      ]
    }
  ]
}